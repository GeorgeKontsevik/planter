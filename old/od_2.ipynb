{
 "cells": [
  {
   "cell_type": "code",
   "execution_count": 2,
   "metadata": {},
   "outputs": [
    {
     "data": {
      "text/html": [
       "<div>\n",
       "<style scoped>\n",
       "    .dataframe tbody tr th:only-of-type {\n",
       "        vertical-align: middle;\n",
       "    }\n",
       "\n",
       "    .dataframe tbody tr th {\n",
       "        vertical-align: top;\n",
       "    }\n",
       "\n",
       "    .dataframe thead th {\n",
       "        text-align: right;\n",
       "    }\n",
       "</style>\n",
       "<table border=\"1\" class=\"dataframe\">\n",
       "  <thead>\n",
       "    <tr style=\"text-align: right;\">\n",
       "      <th></th>\n",
       "      <th>Node1</th>\n",
       "      <th>Node2</th>\n",
       "      <th>Edge Weight</th>\n",
       "      <th>Jaccard Coefficient</th>\n",
       "      <th>Adamic-Adar Index</th>\n",
       "      <th>Common Neighbors</th>\n",
       "      <th>new Edge Weight</th>\n",
       "      <th>final Edge Weight</th>\n",
       "    </tr>\n",
       "  </thead>\n",
       "  <tbody>\n",
       "    <tr>\n",
       "      <th>0</th>\n",
       "      <td>Хакасия, Абаза</td>\n",
       "      <td>Хакасия, Абакан</td>\n",
       "      <td>NaN</td>\n",
       "      <td>0.115385</td>\n",
       "      <td>1.128776</td>\n",
       "      <td>3</td>\n",
       "      <td>20.0</td>\n",
       "      <td>20.0</td>\n",
       "    </tr>\n",
       "    <tr>\n",
       "      <th>1</th>\n",
       "      <td>Хакасия, Абаза</td>\n",
       "      <td>Оренбургская область, Абдулино</td>\n",
       "      <td>NaN</td>\n",
       "      <td>0.058824</td>\n",
       "      <td>0.189462</td>\n",
       "      <td>1</td>\n",
       "      <td>18.0</td>\n",
       "      <td>18.0</td>\n",
       "    </tr>\n",
       "    <tr>\n",
       "      <th>2</th>\n",
       "      <td>Хакасия, Абаза</td>\n",
       "      <td>Краснодарский край, Абинск</td>\n",
       "      <td>NaN</td>\n",
       "      <td>0.066667</td>\n",
       "      <td>0.189462</td>\n",
       "      <td>1</td>\n",
       "      <td>10.0</td>\n",
       "      <td>10.0</td>\n",
       "    </tr>\n",
       "  </tbody>\n",
       "</table>\n",
       "</div>"
      ],
      "text/plain": [
       "            Node1                           Node2  Edge Weight  \\\n",
       "0  Хакасия, Абаза                 Хакасия, Абакан          NaN   \n",
       "1  Хакасия, Абаза  Оренбургская область, Абдулино          NaN   \n",
       "2  Хакасия, Абаза      Краснодарский край, Абинск          NaN   \n",
       "\n",
       "   Jaccard Coefficient  Adamic-Adar Index  Common Neighbors  new Edge Weight  \\\n",
       "0             0.115385           1.128776                 3             20.0   \n",
       "1             0.058824           0.189462                 1             18.0   \n",
       "2             0.066667           0.189462                 1             10.0   \n",
       "\n",
       "   final Edge Weight  \n",
       "0               20.0  \n",
       "1               18.0  \n",
       "2               10.0  "
      ]
     },
     "execution_count": 2,
     "metadata": {},
     "output_type": "execute_result"
    }
   ],
   "source": [
    "import pandas as pd\n",
    "import networkx as nx\n",
    "\n",
    "data = pd.read_parquet(\"all_and_synthetic_conns.parquet\").drop(\n",
    "    columns=\"Preferential Attachment\"\n",
    ")\n",
    "data.head(3)"
   ]
  },
  {
   "cell_type": "code",
   "execution_count": 3,
   "metadata": {},
   "outputs": [
    {
     "data": {
      "text/html": [
       "<div>\n",
       "<style scoped>\n",
       "    .dataframe tbody tr th:only-of-type {\n",
       "        vertical-align: middle;\n",
       "    }\n",
       "\n",
       "    .dataframe tbody tr th {\n",
       "        vertical-align: top;\n",
       "    }\n",
       "\n",
       "    .dataframe thead th {\n",
       "        text-align: right;\n",
       "    }\n",
       "</style>\n",
       "<table border=\"1\" class=\"dataframe\">\n",
       "  <thead>\n",
       "    <tr style=\"text-align: right;\">\n",
       "      <th></th>\n",
       "      <th>Node1</th>\n",
       "      <th>Node2</th>\n",
       "      <th>Edge Weight</th>\n",
       "      <th>Jaccard Coefficient</th>\n",
       "      <th>Adamic-Adar Index</th>\n",
       "      <th>Common Neighbors</th>\n",
       "      <th>new Edge Weight</th>\n",
       "      <th>final Edge Weight</th>\n",
       "    </tr>\n",
       "  </thead>\n",
       "  <tbody>\n",
       "    <tr>\n",
       "      <th>133873</th>\n",
       "      <td>Воронежская область, Бутурлиновка</td>\n",
       "      <td>Мурманская область, Полярные Зори</td>\n",
       "      <td>NaN</td>\n",
       "      <td>0.000000</td>\n",
       "      <td>0.000000</td>\n",
       "      <td>0</td>\n",
       "      <td>0.0</td>\n",
       "      <td>0.0</td>\n",
       "    </tr>\n",
       "    <tr>\n",
       "      <th>154496</th>\n",
       "      <td>Якутия, Вилюйск</td>\n",
       "      <td>Вологодская область, Харовск</td>\n",
       "      <td>NaN</td>\n",
       "      <td>0.035714</td>\n",
       "      <td>0.214003</td>\n",
       "      <td>1</td>\n",
       "      <td>20.0</td>\n",
       "      <td>20.0</td>\n",
       "    </tr>\n",
       "    <tr>\n",
       "      <th>195264</th>\n",
       "      <td>Алтай, Горно-Алтайск</td>\n",
       "      <td>Ивановская область, Родники</td>\n",
       "      <td>NaN</td>\n",
       "      <td>0.111111</td>\n",
       "      <td>0.621335</td>\n",
       "      <td>1</td>\n",
       "      <td>19.0</td>\n",
       "      <td>19.0</td>\n",
       "    </tr>\n",
       "  </tbody>\n",
       "</table>\n",
       "</div>"
      ],
      "text/plain": [
       "                                    Node1                              Node2  \\\n",
       "133873  Воронежская область, Бутурлиновка  Мурманская область, Полярные Зори   \n",
       "154496                    Якутия, Вилюйск       Вологодская область, Харовск   \n",
       "195264               Алтай, Горно-Алтайск        Ивановская область, Родники   \n",
       "\n",
       "        Edge Weight  Jaccard Coefficient  Adamic-Adar Index  Common Neighbors  \\\n",
       "133873          NaN             0.000000           0.000000                 0   \n",
       "154496          NaN             0.035714           0.214003                 1   \n",
       "195264          NaN             0.111111           0.621335                 1   \n",
       "\n",
       "        new Edge Weight  final Edge Weight  \n",
       "133873              0.0                0.0  \n",
       "154496             20.0               20.0  \n",
       "195264             19.0               19.0  "
      ]
     },
     "execution_count": 3,
     "metadata": {},
     "output_type": "execute_result"
    }
   ],
   "source": [
    "data.sample(3)"
   ]
  },
  {
   "cell_type": "code",
   "execution_count": 4,
   "metadata": {},
   "outputs": [
    {
     "data": {
      "text/html": [
       "<div>\n",
       "<style scoped>\n",
       "    .dataframe tbody tr th:only-of-type {\n",
       "        vertical-align: middle;\n",
       "    }\n",
       "\n",
       "    .dataframe tbody tr th {\n",
       "        vertical-align: top;\n",
       "    }\n",
       "\n",
       "    .dataframe thead th {\n",
       "        text-align: right;\n",
       "    }\n",
       "</style>\n",
       "<table border=\"1\" class=\"dataframe\">\n",
       "  <thead>\n",
       "    <tr style=\"text-align: right;\">\n",
       "      <th></th>\n",
       "      <th>region_city</th>\n",
       "      <th>city_category</th>\n",
       "      <th>population</th>\n",
       "      <th>harsh_climate</th>\n",
       "      <th>ueqi_score</th>\n",
       "      <th>ueqi_residential</th>\n",
       "      <th>ueqi_street_networks</th>\n",
       "      <th>ueqi_green_spaces</th>\n",
       "      <th>ueqi_public_and_business_infrastructure</th>\n",
       "      <th>ueqi_social_and_leisure_infrastructure</th>\n",
       "      <th>...</th>\n",
       "      <th>probability_to_move</th>\n",
       "      <th>probability_to_move_to_SELECTED_CITY</th>\n",
       "      <th>migrations_to_selected_city</th>\n",
       "      <th>num_in_migration</th>\n",
       "      <th>one_vacancy_out_response</th>\n",
       "      <th>estimate</th>\n",
       "      <th>h3_index</th>\n",
       "      <th>x</th>\n",
       "      <th>y</th>\n",
       "      <th>geometry</th>\n",
       "    </tr>\n",
       "  </thead>\n",
       "  <tbody>\n",
       "    <tr>\n",
       "      <th>0</th>\n",
       "      <td>Хакасия, Абаза</td>\n",
       "      <td>Малый город</td>\n",
       "      <td>0.012055</td>\n",
       "      <td>False</td>\n",
       "      <td>172</td>\n",
       "      <td>36</td>\n",
       "      <td>34</td>\n",
       "      <td>27</td>\n",
       "      <td>16</td>\n",
       "      <td>20</td>\n",
       "      <td>...</td>\n",
       "      <td>0.889793</td>\n",
       "      <td>0.002423</td>\n",
       "      <td>0.029192</td>\n",
       "      <td>0.390940</td>\n",
       "      <td>74.180</td>\n",
       "      <td>0.512</td>\n",
       "      <td>862535cc7ffffff</td>\n",
       "      <td>90.097573</td>\n",
       "      <td>52.647106</td>\n",
       "      <td>b'\\x01\\x01\\x00\\x00\\x00?\\xfe\\xd2\\xa2&gt;\\x86V@\\xcf...</td>\n",
       "    </tr>\n",
       "    <tr>\n",
       "      <th>1</th>\n",
       "      <td>Хакасия, Абакан</td>\n",
       "      <td>Большой город</td>\n",
       "      <td>0.185348</td>\n",
       "      <td>False</td>\n",
       "      <td>210</td>\n",
       "      <td>36</td>\n",
       "      <td>37</td>\n",
       "      <td>24</td>\n",
       "      <td>37</td>\n",
       "      <td>36</td>\n",
       "      <td>...</td>\n",
       "      <td>0.413735</td>\n",
       "      <td>0.020500</td>\n",
       "      <td>0.774521</td>\n",
       "      <td>17.594633</td>\n",
       "      <td>18.926</td>\n",
       "      <td>0.687</td>\n",
       "      <td>8625263b7ffffff</td>\n",
       "      <td>91.450000</td>\n",
       "      <td>53.740000</td>\n",
       "      <td>b'\\x01\\x01\\x00\\x00\\x00\\xcd\\xcc\\xcc\\xcc\\xcc\\xdc...</td>\n",
       "    </tr>\n",
       "  </tbody>\n",
       "</table>\n",
       "<p>2 rows × 96 columns</p>\n",
       "</div>"
      ],
      "text/plain": [
       "       region_city  city_category  population  harsh_climate  ueqi_score  \\\n",
       "0   Хакасия, Абаза    Малый город    0.012055          False         172   \n",
       "1  Хакасия, Абакан  Большой город    0.185348          False         210   \n",
       "\n",
       "   ueqi_residential  ueqi_street_networks  ueqi_green_spaces  \\\n",
       "0                36                    34                 27   \n",
       "1                36                    37                 24   \n",
       "\n",
       "   ueqi_public_and_business_infrastructure  \\\n",
       "0                                       16   \n",
       "1                                       37   \n",
       "\n",
       "   ueqi_social_and_leisure_infrastructure  ...  probability_to_move  \\\n",
       "0                                      20  ...             0.889793   \n",
       "1                                      36  ...             0.413735   \n",
       "\n",
       "   probability_to_move_to_SELECTED_CITY  migrations_to_selected_city  \\\n",
       "0                              0.002423                     0.029192   \n",
       "1                              0.020500                     0.774521   \n",
       "\n",
       "   num_in_migration  one_vacancy_out_response  estimate         h3_index  \\\n",
       "0          0.390940                    74.180     0.512  862535cc7ffffff   \n",
       "1         17.594633                    18.926     0.687  8625263b7ffffff   \n",
       "\n",
       "           x          y                                           geometry  \n",
       "0  90.097573  52.647106  b'\\x01\\x01\\x00\\x00\\x00?\\xfe\\xd2\\xa2>\\x86V@\\xcf...  \n",
       "1  91.450000  53.740000  b'\\x01\\x01\\x00\\x00\\x00\\xcd\\xcc\\xcc\\xcc\\xcc\\xdc...  \n",
       "\n",
       "[2 rows x 96 columns]"
      ]
     },
     "execution_count": 4,
     "metadata": {},
     "output_type": "execute_result"
    }
   ],
   "source": [
    "cities = pd.read_parquet(\n",
    "    \"/Users/test/Documents/code/IL2/factory_loc_service/api/app/data/cities.parquet\"\n",
    ")\n",
    "cities[\"population\"] /= 1e6\n",
    "cities.head(2)"
   ]
  },
  {
   "cell_type": "code",
   "execution_count": 5,
   "metadata": {},
   "outputs": [],
   "source": [
    "from sklearn.preprocessing import MinMaxScaler\n",
    "\n",
    "cols = [\n",
    "    \"population\",\n",
    "    \"harsh_climate\",\n",
    "    \"ueqi_residential\",\n",
    "    \"ueqi_street_networks\",\n",
    "    \"ueqi_green_spaces\",\n",
    "    \"ueqi_public_and_business_infrastructure\",\n",
    "    \"ueqi_social_and_leisure_infrastructure\",\n",
    "    \"ueqi_citywide_space\",\n",
    "    \"median_salary\",\n",
    "    \"factories_total\",\n",
    "]"
   ]
  },
  {
   "cell_type": "code",
   "execution_count": 6,
   "metadata": {},
   "outputs": [
    {
     "name": "stderr",
     "output_type": "stream",
     "text": [
      "/var/folders/jn/d6x3c7jd7594dtldxq22ysn80000gn/T/ipykernel_1611/575284884.py:6: FutureWarning: Setting an item of incompatible dtype is deprecated and will raise in a future error of pandas. Value '[0. 0. 0. ... 0. 0. 0.]' has dtype incompatible with bool, please explicitly cast to a compatible dtype first.\n",
      "  cities.loc[:, cols] = pd.DataFrame(city_sc.fit_transform(cities[cols]), columns=cols)\n",
      "/var/folders/jn/d6x3c7jd7594dtldxq22ysn80000gn/T/ipykernel_1611/575284884.py:6: FutureWarning: Setting an item of incompatible dtype is deprecated and will raise in a future error of pandas. Value '[0.56818182 0.56818182 0.52272727 ... 0.25       0.15909091 0.5       ]' has dtype incompatible with int64, please explicitly cast to a compatible dtype first.\n",
      "  cities.loc[:, cols] = pd.DataFrame(city_sc.fit_transform(cities[cols]), columns=cols)\n",
      "/var/folders/jn/d6x3c7jd7594dtldxq22ysn80000gn/T/ipykernel_1611/575284884.py:6: FutureWarning: Setting an item of incompatible dtype is deprecated and will raise in a future error of pandas. Value '[0.47222222 0.55555556 0.16666667 ... 0.38888889 0.38888889 0.25      ]' has dtype incompatible with int64, please explicitly cast to a compatible dtype first.\n",
      "  cities.loc[:, cols] = pd.DataFrame(city_sc.fit_transform(cities[cols]), columns=cols)\n",
      "/var/folders/jn/d6x3c7jd7594dtldxq22ysn80000gn/T/ipykernel_1611/575284884.py:6: FutureWarning: Setting an item of incompatible dtype is deprecated and will raise in a future error of pandas. Value '[0.40909091 0.34090909 0.06818182 ... 0.54545455 0.43181818 0.77272727]' has dtype incompatible with int64, please explicitly cast to a compatible dtype first.\n",
      "  cities.loc[:, cols] = pd.DataFrame(city_sc.fit_transform(cities[cols]), columns=cols)\n",
      "/var/folders/jn/d6x3c7jd7594dtldxq22ysn80000gn/T/ipykernel_1611/575284884.py:6: FutureWarning: Setting an item of incompatible dtype is deprecated and will raise in a future error of pandas. Value '[0.2        0.66666667 0.35555556 ... 0.22222222 0.51111111 0.22222222]' has dtype incompatible with int64, please explicitly cast to a compatible dtype first.\n",
      "  cities.loc[:, cols] = pd.DataFrame(city_sc.fit_transform(cities[cols]), columns=cols)\n",
      "/var/folders/jn/d6x3c7jd7594dtldxq22ysn80000gn/T/ipykernel_1611/575284884.py:6: FutureWarning: Setting an item of incompatible dtype is deprecated and will raise in a future error of pandas. Value '[0.27906977 0.65116279 0.27906977 ... 0.48837209 0.46511628 0.41860465]' has dtype incompatible with int64, please explicitly cast to a compatible dtype first.\n",
      "  cities.loc[:, cols] = pd.DataFrame(city_sc.fit_transform(cities[cols]), columns=cols)\n",
      "/var/folders/jn/d6x3c7jd7594dtldxq22ysn80000gn/T/ipykernel_1611/575284884.py:6: FutureWarning: Setting an item of incompatible dtype is deprecated and will raise in a future error of pandas. Value '[0.54054054 0.56756757 0.7027027  ... 0.72972973 0.54054054 0.40540541]' has dtype incompatible with int64, please explicitly cast to a compatible dtype first.\n",
      "  cities.loc[:, cols] = pd.DataFrame(city_sc.fit_transform(cities[cols]), columns=cols)\n",
      "/var/folders/jn/d6x3c7jd7594dtldxq22ysn80000gn/T/ipykernel_1611/575284884.py:6: FutureWarning: Setting an item of incompatible dtype is deprecated and will raise in a future error of pandas. Value '[0.1782336  0.19890684 0.0572195  ... 0.1782336  0.01950344 0.07738852]' has dtype incompatible with int64, please explicitly cast to a compatible dtype first.\n",
      "  cities.loc[:, cols] = pd.DataFrame(city_sc.fit_transform(cities[cols]), columns=cols)\n",
      "/var/folders/jn/d6x3c7jd7594dtldxq22ysn80000gn/T/ipykernel_1611/575284884.py:6: FutureWarning: Setting an item of incompatible dtype is deprecated and will raise in a future error of pandas. Value '[0.         0.01671309 0.00557103 ... 0.         0.         0.01114206]' has dtype incompatible with int64, please explicitly cast to a compatible dtype first.\n",
      "  cities.loc[:, cols] = pd.DataFrame(city_sc.fit_transform(cities[cols]), columns=cols)\n"
     ]
    }
   ],
   "source": [
    "from sklearn.preprocessing import MinMaxScaler\n",
    "\n",
    "\n",
    "city_sc = MinMaxScaler()\n",
    "\n",
    "cities.loc[:, cols] = pd.DataFrame(city_sc.fit_transform(cities[cols]), columns=cols)\n",
    "\n",
    "g2 = nx.from_pandas_edgelist(\n",
    "    data,\n",
    "    source=\"Node1\",\n",
    "    target=\"Node2\",\n",
    "    edge_attr=[\n",
    "        \"Jaccard Coefficient\",\n",
    "        \"Adamic-Adar Index\",\n",
    "        \"Common Neighbors\",\n",
    "        \"final Edge Weight\",\n",
    "    ],\n",
    ")\n",
    "\n",
    "for _, row in cities.iterrows():\n",
    "    city_name = row[\"region_city\"]\n",
    "\n",
    "    for k, v in row.to_dict().items():\n",
    "        if k in cols:\n",
    "            g2.nodes[city_name][k] = v"
   ]
  },
  {
   "cell_type": "code",
   "execution_count": 7,
   "metadata": {},
   "outputs": [
    {
     "name": "stdout",
     "output_type": "stream",
     "text": [
      "('Хакасия, Абаза', {'population': 0.0008613788976593802, 'harsh_climate': 0.0, 'ueqi_residential': 0.5681818181818182, 'ueqi_street_networks': 0.4722222222222222, 'ueqi_green_spaces': 0.40909090909090906, 'ueqi_public_and_business_infrastructure': 0.2, 'ueqi_social_and_leisure_infrastructure': 0.27906976744186046, 'ueqi_citywide_space': 0.5405405405405406, 'median_salary': 0.17823359754744758, 'factories_total': 0.0})\n",
      "('Хакасия, Абаза', 'Хакасия, Абакан', {'Jaccard Coefficient': 0.11538461538461539, 'Adamic-Adar Index': 1.1287764428208267, 'Common Neighbors': 3, 'final Edge Weight': 20.0})\n"
     ]
    }
   ],
   "source": [
    "print(list(g2.nodes(data=True))[0])\n",
    "print(list(g2.edges(data=True))[0])"
   ]
  },
  {
   "cell_type": "code",
   "execution_count": 8,
   "metadata": {},
   "outputs": [],
   "source": [
    "import itertools\n",
    "\n",
    "\n",
    "# Function to compute similarity based on node attributes\n",
    "def compute_similarity(G):\n",
    "    similarity_scores = {}\n",
    "    for u, v in itertools.combinations(G.nodes(), 2):\n",
    "        if u == v:\n",
    "            continue\n",
    "\n",
    "        # Compute feature differences or similarities (using a simple difference metric here)\n",
    "        pop_diff = abs(G.nodes[u][\"population\"] - G.nodes[v][\"population\"])\n",
    "        salary_diff = abs(G.nodes[u][\"median_salary\"] - G.nodes[v][\"median_salary\"])\n",
    "        ueqi_diff = (\n",
    "            abs(G.nodes[u][\"ueqi_residential\"] - G.nodes[v][\"ueqi_residential\"])\n",
    "            + abs(\n",
    "                G.nodes[u][\"ueqi_street_networks\"] - G.nodes[v][\"ueqi_street_networks\"]\n",
    "            )\n",
    "            + abs(G.nodes[u][\"ueqi_green_spaces\"] - G.nodes[v][\"ueqi_green_spaces\"])\n",
    "            + abs(\n",
    "                G.nodes[u][\"ueqi_public_and_business_infrastructure\"]\n",
    "                - G.nodes[v][\"ueqi_public_and_business_infrastructure\"]\n",
    "            )\n",
    "            + abs(\n",
    "                G.nodes[u][\"ueqi_social_and_leisure_infrastructure\"]\n",
    "                - G.nodes[v][\"ueqi_social_and_leisure_infrastructure\"]\n",
    "            )\n",
    "            + abs(G.nodes[u][\"ueqi_citywide_space\"] - G.nodes[v][\"ueqi_citywide_space\"])\n",
    "        )\n",
    "\n",
    "        # A simple similarity metric: lower difference means higher similarity\n",
    "        similarity = G[u][v][\"final Edge Weight\"] / (\n",
    "            1 + pop_diff + salary_diff + ueqi_diff\n",
    "        )\n",
    "        similarity_scores[(u, v)] = similarity\n",
    "    return similarity_scores\n",
    "\n",
    "\n",
    "# Function to predict new links\n",
    "def predict_links(G, threshold=0.1):\n",
    "    similarity_scores = compute_similarity(G)\n",
    "\n",
    "    predictions = []\n",
    "    for (city1, city2), score in similarity_scores.items():\n",
    "        # Only predict a link if it doesn't already exist and meets the threshold\n",
    "        if score > threshold:\n",
    "            predictions.append((city1, city2, score))\n",
    "\n",
    "    return predictions"
   ]
  },
  {
   "cell_type": "code",
   "execution_count": 9,
   "metadata": {},
   "outputs": [],
   "source": [
    "# Predict links again after modifying attributes\n",
    "predicted_sim = predict_links(g2, 0.1)"
   ]
  },
  {
   "cell_type": "code",
   "execution_count": 10,
   "metadata": {},
   "outputs": [
    {
     "data": {
      "text/html": [
       "<div>\n",
       "<style scoped>\n",
       "    .dataframe tbody tr th:only-of-type {\n",
       "        vertical-align: middle;\n",
       "    }\n",
       "\n",
       "    .dataframe tbody tr th {\n",
       "        vertical-align: top;\n",
       "    }\n",
       "\n",
       "    .dataframe thead th {\n",
       "        text-align: right;\n",
       "    }\n",
       "</style>\n",
       "<table border=\"1\" class=\"dataframe\">\n",
       "  <thead>\n",
       "    <tr style=\"text-align: right;\">\n",
       "      <th></th>\n",
       "      <th>source</th>\n",
       "      <th>target</th>\n",
       "      <th>Adamic-Adar Index</th>\n",
       "      <th>final Edge Weight</th>\n",
       "      <th>Jaccard Coefficient</th>\n",
       "      <th>Common Neighbors</th>\n",
       "    </tr>\n",
       "  </thead>\n",
       "  <tbody>\n",
       "    <tr>\n",
       "      <th>0</th>\n",
       "      <td>Хакасия, Абаза</td>\n",
       "      <td>Хакасия, Абакан</td>\n",
       "      <td>1.128776</td>\n",
       "      <td>20.0</td>\n",
       "      <td>0.115385</td>\n",
       "      <td>3</td>\n",
       "    </tr>\n",
       "    <tr>\n",
       "      <th>1</th>\n",
       "      <td>Хакасия, Абаза</td>\n",
       "      <td>Оренбургская область, Абдулино</td>\n",
       "      <td>0.189462</td>\n",
       "      <td>18.0</td>\n",
       "      <td>0.058824</td>\n",
       "      <td>1</td>\n",
       "    </tr>\n",
       "    <tr>\n",
       "      <th>2</th>\n",
       "      <td>Хакасия, Абаза</td>\n",
       "      <td>Краснодарский край, Абинск</td>\n",
       "      <td>0.189462</td>\n",
       "      <td>10.0</td>\n",
       "      <td>0.066667</td>\n",
       "      <td>1</td>\n",
       "    </tr>\n",
       "    <tr>\n",
       "      <th>3</th>\n",
       "      <td>Хакасия, Абаза</td>\n",
       "      <td>Башкортостан, Агидель</td>\n",
       "      <td>0.000000</td>\n",
       "      <td>0.0</td>\n",
       "      <td>0.000000</td>\n",
       "      <td>0</td>\n",
       "    </tr>\n",
       "    <tr>\n",
       "      <th>4</th>\n",
       "      <td>Хакасия, Абаза</td>\n",
       "      <td>Татарстан, Агрыз</td>\n",
       "      <td>0.000000</td>\n",
       "      <td>0.0</td>\n",
       "      <td>0.000000</td>\n",
       "      <td>0</td>\n",
       "    </tr>\n",
       "    <tr>\n",
       "      <th>...</th>\n",
       "      <td>...</td>\n",
       "      <td>...</td>\n",
       "      <td>...</td>\n",
       "      <td>...</td>\n",
       "      <td>...</td>\n",
       "      <td>...</td>\n",
       "    </tr>\n",
       "    <tr>\n",
       "      <th>611060</th>\n",
       "      <td>Челябинская область, Нязепетровск</td>\n",
       "      <td>Псковская область, Новоржев</td>\n",
       "      <td>0.000000</td>\n",
       "      <td>0.0</td>\n",
       "      <td>0.000000</td>\n",
       "      <td>0</td>\n",
       "    </tr>\n",
       "    <tr>\n",
       "      <th>611061</th>\n",
       "      <td>Челябинская область, Нязепетровск</td>\n",
       "      <td>Нижегородская область, Ворсма</td>\n",
       "      <td>0.000000</td>\n",
       "      <td>0.0</td>\n",
       "      <td>0.000000</td>\n",
       "      <td>0</td>\n",
       "    </tr>\n",
       "    <tr>\n",
       "      <th>611062</th>\n",
       "      <td>Тульская область, Чекалин</td>\n",
       "      <td>Псковская область, Новоржев</td>\n",
       "      <td>0.000000</td>\n",
       "      <td>0.0</td>\n",
       "      <td>0.000000</td>\n",
       "      <td>0</td>\n",
       "    </tr>\n",
       "    <tr>\n",
       "      <th>611063</th>\n",
       "      <td>Тульская область, Чекалин</td>\n",
       "      <td>Нижегородская область, Ворсма</td>\n",
       "      <td>0.000000</td>\n",
       "      <td>0.0</td>\n",
       "      <td>0.000000</td>\n",
       "      <td>0</td>\n",
       "    </tr>\n",
       "    <tr>\n",
       "      <th>611064</th>\n",
       "      <td>Псковская область, Новоржев</td>\n",
       "      <td>Нижегородская область, Ворсма</td>\n",
       "      <td>0.000000</td>\n",
       "      <td>0.0</td>\n",
       "      <td>0.000000</td>\n",
       "      <td>0</td>\n",
       "    </tr>\n",
       "  </tbody>\n",
       "</table>\n",
       "<p>611065 rows × 6 columns</p>\n",
       "</div>"
      ],
      "text/plain": [
       "                                   source                          target  \\\n",
       "0                          Хакасия, Абаза                 Хакасия, Абакан   \n",
       "1                          Хакасия, Абаза  Оренбургская область, Абдулино   \n",
       "2                          Хакасия, Абаза      Краснодарский край, Абинск   \n",
       "3                          Хакасия, Абаза           Башкортостан, Агидель   \n",
       "4                          Хакасия, Абаза                Татарстан, Агрыз   \n",
       "...                                   ...                             ...   \n",
       "611060  Челябинская область, Нязепетровск     Псковская область, Новоржев   \n",
       "611061  Челябинская область, Нязепетровск   Нижегородская область, Ворсма   \n",
       "611062          Тульская область, Чекалин     Псковская область, Новоржев   \n",
       "611063          Тульская область, Чекалин   Нижегородская область, Ворсма   \n",
       "611064        Псковская область, Новоржев   Нижегородская область, Ворсма   \n",
       "\n",
       "        Adamic-Adar Index  final Edge Weight  Jaccard Coefficient  \\\n",
       "0                1.128776               20.0             0.115385   \n",
       "1                0.189462               18.0             0.058824   \n",
       "2                0.189462               10.0             0.066667   \n",
       "3                0.000000                0.0             0.000000   \n",
       "4                0.000000                0.0             0.000000   \n",
       "...                   ...                ...                  ...   \n",
       "611060           0.000000                0.0             0.000000   \n",
       "611061           0.000000                0.0             0.000000   \n",
       "611062           0.000000                0.0             0.000000   \n",
       "611063           0.000000                0.0             0.000000   \n",
       "611064           0.000000                0.0             0.000000   \n",
       "\n",
       "        Common Neighbors  \n",
       "0                      3  \n",
       "1                      1  \n",
       "2                      1  \n",
       "3                      0  \n",
       "4                      0  \n",
       "...                  ...  \n",
       "611060                 0  \n",
       "611061                 0  \n",
       "611062                 0  \n",
       "611063                 0  \n",
       "611064                 0  \n",
       "\n",
       "[611065 rows x 6 columns]"
      ]
     },
     "execution_count": 10,
     "metadata": {},
     "output_type": "execute_result"
    }
   ],
   "source": [
    "e_lst = nx.to_pandas_edgelist(g2)\n",
    "e_lst"
   ]
  },
  {
   "cell_type": "code",
   "execution_count": 11,
   "metadata": {},
   "outputs": [],
   "source": [
    "data = e_lst.merge(\n",
    "    pd.DataFrame(predicted_sim, columns=[\"source\", \"target\", \"sim\"]),\n",
    "    on=[\"source\", \"target\"],\n",
    "    how=\"inner\",\n",
    ")"
   ]
  },
  {
   "cell_type": "code",
   "execution_count": 12,
   "metadata": {},
   "outputs": [
    {
     "data": {
      "text/html": [
       "<div>\n",
       "<style scoped>\n",
       "    .dataframe tbody tr th:only-of-type {\n",
       "        vertical-align: middle;\n",
       "    }\n",
       "\n",
       "    .dataframe tbody tr th {\n",
       "        vertical-align: top;\n",
       "    }\n",
       "\n",
       "    .dataframe thead th {\n",
       "        text-align: right;\n",
       "    }\n",
       "</style>\n",
       "<table border=\"1\" class=\"dataframe\">\n",
       "  <thead>\n",
       "    <tr style=\"text-align: right;\">\n",
       "      <th></th>\n",
       "      <th>source</th>\n",
       "      <th>target</th>\n",
       "      <th>Adamic-Adar Index</th>\n",
       "      <th>final Edge Weight</th>\n",
       "      <th>Jaccard Coefficient</th>\n",
       "      <th>Common Neighbors</th>\n",
       "      <th>sim</th>\n",
       "    </tr>\n",
       "  </thead>\n",
       "  <tbody>\n",
       "    <tr>\n",
       "      <th>0</th>\n",
       "      <td>Хакасия, Абаза</td>\n",
       "      <td>Хакасия, Абакан</td>\n",
       "      <td>1.128776</td>\n",
       "      <td>20.0</td>\n",
       "      <td>0.115385</td>\n",
       "      <td>3</td>\n",
       "      <td>9.750389</td>\n",
       "    </tr>\n",
       "    <tr>\n",
       "      <th>1</th>\n",
       "      <td>Хакасия, Абаза</td>\n",
       "      <td>Оренбургская область, Абдулино</td>\n",
       "      <td>0.189462</td>\n",
       "      <td>18.0</td>\n",
       "      <td>0.058824</td>\n",
       "      <td>1</td>\n",
       "      <td>8.446630</td>\n",
       "    </tr>\n",
       "    <tr>\n",
       "      <th>2</th>\n",
       "      <td>Хакасия, Абаза</td>\n",
       "      <td>Краснодарский край, Абинск</td>\n",
       "      <td>0.189462</td>\n",
       "      <td>10.0</td>\n",
       "      <td>0.066667</td>\n",
       "      <td>1</td>\n",
       "      <td>6.036428</td>\n",
       "    </tr>\n",
       "    <tr>\n",
       "      <th>3</th>\n",
       "      <td>Хакасия, Абаза</td>\n",
       "      <td>Татарстан, Азнакаево</td>\n",
       "      <td>0.189462</td>\n",
       "      <td>21.0</td>\n",
       "      <td>0.045455</td>\n",
       "      <td>1</td>\n",
       "      <td>10.715756</td>\n",
       "    </tr>\n",
       "    <tr>\n",
       "      <th>4</th>\n",
       "      <td>Хакасия, Абаза</td>\n",
       "      <td>Ростовская область, Азов</td>\n",
       "      <td>0.185561</td>\n",
       "      <td>21.0</td>\n",
       "      <td>0.041667</td>\n",
       "      <td>1</td>\n",
       "      <td>9.156998</td>\n",
       "    </tr>\n",
       "  </tbody>\n",
       "</table>\n",
       "</div>"
      ],
      "text/plain": [
       "           source                          target  Adamic-Adar Index  \\\n",
       "0  Хакасия, Абаза                 Хакасия, Абакан           1.128776   \n",
       "1  Хакасия, Абаза  Оренбургская область, Абдулино           0.189462   \n",
       "2  Хакасия, Абаза      Краснодарский край, Абинск           0.189462   \n",
       "3  Хакасия, Абаза            Татарстан, Азнакаево           0.189462   \n",
       "4  Хакасия, Абаза        Ростовская область, Азов           0.185561   \n",
       "\n",
       "   final Edge Weight  Jaccard Coefficient  Common Neighbors        sim  \n",
       "0               20.0             0.115385                 3   9.750389  \n",
       "1               18.0             0.058824                 1   8.446630  \n",
       "2               10.0             0.066667                 1   6.036428  \n",
       "3               21.0             0.045455                 1  10.715756  \n",
       "4               21.0             0.041667                 1   9.156998  "
      ]
     },
     "execution_count": 12,
     "metadata": {},
     "output_type": "execute_result"
    }
   ],
   "source": [
    "data.head()"
   ]
  },
  {
   "cell_type": "code",
   "execution_count": 13,
   "metadata": {},
   "outputs": [
    {
     "name": "stdout",
     "output_type": "stream",
     "text": [
      "0:\tlearn: 0.2637783\ttest: 0.2767260\tbest: 0.2767260 (0)\ttotal: 77.8ms\tremaining: 38.8s\n",
      "50:\tlearn: 0.0959890\ttest: 0.0977166\tbest: 0.0977166 (50)\ttotal: 753ms\tremaining: 6.63s\n",
      "100:\tlearn: 0.0791169\ttest: 0.0795814\tbest: 0.0795814 (100)\ttotal: 1.41s\tremaining: 5.56s\n",
      "Stopped by overfitting detector  (5 iterations wait)\n",
      "\n",
      "bestTest = 0.07800534313\n",
      "bestIteration = 135\n",
      "\n",
      "Shrink model to first 136 iterations.\n"
     ]
    },
    {
     "data": {
      "text/plain": [
       "<catboost.core.CatBoostRegressor at 0x12ff9cdd0>"
      ]
     },
     "execution_count": 13,
     "metadata": {},
     "output_type": "execute_result"
    }
   ],
   "source": [
    "from catboost import CatBoostRegressor\n",
    "from sklearn.model_selection import train_test_split\n",
    "from sklearn.metrics import mean_squared_error, r2_score, mean_absolute_percentage_error\n",
    "\n",
    "model = CatBoostRegressor(\n",
    "    loss_function=\"MAPE\",  # или 'Tweedie' с параметром variance_power\n",
    "    eval_metric=\"MAPE\",\n",
    "    iterations=500,\n",
    "    learning_rate=0.05,\n",
    "    depth=12,\n",
    "    random_seed=42,\n",
    "    early_stopping_rounds=5,\n",
    ")\n",
    "\n",
    "X = data[[\"sim\"]]\n",
    "y = data[[\"final Edge Weight\"]]\n",
    "\n",
    "X_train, X_test, y_train, y_test = train_test_split(\n",
    "    X, y, test_size=0.3, random_state=42\n",
    ")\n",
    "\n",
    "model.fit(\n",
    "    X_train,\n",
    "    y_train,\n",
    "    # sample_weight=sample_weights,\n",
    "    eval_set=(\n",
    "        pd.DataFrame(X).sample(2000, random_state=42),\n",
    "        y.sample(2000, random_state=42),\n",
    "    ),\n",
    "    early_stopping_rounds=5,\n",
    "    verbose=50,\n",
    ")"
   ]
  },
  {
   "cell_type": "code",
   "execution_count": 14,
   "metadata": {},
   "outputs": [
    {
     "name": "stdout",
     "output_type": "stream",
     "text": [
      "0.07765052633440407\n",
      "0.07638678454188688\n"
     ]
    }
   ],
   "source": [
    "print(mean_absolute_percentage_error(y_train, model.predict(X_train)))\n",
    "print(mean_absolute_percentage_error(y_test, model.predict(X_test)))"
   ]
  },
  {
   "cell_type": "code",
   "execution_count": 15,
   "metadata": {},
   "outputs": [
    {
     "data": {
      "text/plain": [
       "array([21.41900811, 19.99906586, 19.99907056, ..., 19.99906586,\n",
       "       21.11752266, 19.99906676])"
      ]
     },
     "execution_count": 15,
     "metadata": {},
     "output_type": "execute_result"
    }
   ],
   "source": [
    "pred = model.predict(X_test)\n",
    "pred"
   ]
  },
  {
   "cell_type": "code",
   "execution_count": 16,
   "metadata": {},
   "outputs": [
    {
     "data": {
      "text/plain": [
       "(array([ 8357.,   329.,   298.,   497., 27378.,  2883.,  1411.]),\n",
       " array([ 9.9643136 , 12.17701078, 14.38970796, 16.60240514, 18.81510232,\n",
       "        21.0277995 , 23.24049668, 25.45319385]),\n",
       " <BarContainer object of 7 artists>)"
      ]
     },
     "execution_count": 16,
     "metadata": {},
     "output_type": "execute_result"
    },
    {
     "data": {
      "image/png": "[encoded data removed]",
      "text/plain": [
       "<Figure size 640x480 with 1 Axes>"
      ]
     },
     "metadata": {},
     "output_type": "display_data"
    }
   ],
   "source": [
    "import matplotlib.pyplot as plt\n",
    "\n",
    "plt.hist(y_test, bins=7, alpha=0.5, color=\"r\")\n",
    "plt.hist(pred, bins=7, alpha=0.5)"
   ]
  },
  {
   "cell_type": "code",
   "execution_count": 17,
   "metadata": {},
   "outputs": [
    {
     "data": {
      "text/plain": [
       "2444.0"
      ]
     },
     "execution_count": 17,
     "metadata": {},
     "output_type": "execute_result"
    }
   ],
   "source": [
    "node1 = \"Адыгея, Адыгейск\"\n",
    "\n",
    "mask = data[\"source\"] == node1\n",
    "\n",
    "data[mask][\"final Edge Weight\"].sum()"
   ]
  },
  {
   "cell_type": "code",
   "execution_count": 18,
   "metadata": {},
   "outputs": [
    {
     "data": {
      "text/plain": [
       "<Axes: >"
      ]
     },
     "execution_count": 18,
     "metadata": {},
     "output_type": "execute_result"
    },
    {
     "data": {
      "image/png": "[encoded data removed]",
      "text/plain": [
       "<Figure size 640x480 with 1 Axes>"
      ]
     },
     "metadata": {},
     "output_type": "display_data"
    }
   ],
   "source": [
    "data[mask][\"final Edge Weight\"].hist()"
   ]
  },
  {
   "cell_type": "code",
   "execution_count": null,
   "metadata": {},
   "outputs": [],
   "source": []
  },
  {
   "cell_type": "code",
   "execution_count": 26,
   "metadata": {},
   "outputs": [],
   "source": [
    "# Modify attributes of a node (e.g., increase the population of Хакасия, Абаза)\n",
    "new_params = {\n",
    "    \"ueqi_residential\": 0,\n",
    "    \"ueqi_street_networks\": 0,\n",
    "    \"ueqi_green_spaces\": 0,\n",
    "    \"ueqi_public_and_business_infrastructure\": 0,\n",
    "    \"ueqi_social_and_leisure_infrastructure\": 0,\n",
    "    \"ueqi_citywide_space\": 0,\n",
    "    \"median_salary\": 0\n",
    "}\n",
    "\n",
    "\n",
    "# Predict links again after modifying attributes\n",
    "# predicted_sim_2 = predict_links(g2, 0.1)\n",
    "# print(\"\\nPredicted links after modifying attributes:\")\n",
    "# for city1, city2, score in predicted_sim_2:\n",
    "#     if city1 == node1:\n",
    "#         print(f\"Link between {city1} and {city2} with similarity score: {score:.4f}\")\n",
    "\n",
    "for k, v in new_params.items():\n",
    "    g2.nodes[node1][k] = v\n",
    "    g2.nodes[node1][k] = v\n",
    "\n",
    "\n",
    "predicted_sim_updated = predict_links(g2, 0.1)"
   ]
  },
  {
   "cell_type": "code",
   "execution_count": 27,
   "metadata": {},
   "outputs": [],
   "source": [
    "data_2 = e_lst.merge(\n",
    "    pd.DataFrame(predicted_sim_updated, columns=[\"source\", \"target\", \"sim\"]),\n",
    "    on=[\"source\", \"target\"],\n",
    "    how=\"inner\",\n",
    ")"
   ]
  },
  {
   "cell_type": "code",
   "execution_count": 28,
   "metadata": {},
   "outputs": [],
   "source": [
    "data_2[\"new_target\"] = model.predict(data_2[\"sim\"])"
   ]
  },
  {
   "cell_type": "code",
   "execution_count": 29,
   "metadata": {},
   "outputs": [
    {
     "data": {
      "text/plain": [
       "2579.879496409753"
      ]
     },
     "execution_count": 29,
     "metadata": {},
     "output_type": "execute_result"
    }
   ],
   "source": [
    "node1 = \"Адыгея, Адыгейск\"\n",
    "\n",
    "mask = data_2[\"source\"] == node1\n",
    "\n",
    "data_2[mask][\"new_target\"].sum()"
   ]
  },
  {
   "cell_type": "code",
   "execution_count": 30,
   "metadata": {},
   "outputs": [
    {
     "data": {
      "text/plain": [
       "1842    19.999066\n",
       "1843    19.999066\n",
       "1844    19.999066\n",
       "1845    19.999066\n",
       "1846    19.999066\n",
       "          ...    \n",
       "1966    19.999066\n",
       "1967    19.999066\n",
       "1968    19.999066\n",
       "1969    19.999066\n",
       "1970    19.999066\n",
       "Name: new_target, Length: 129, dtype: float64"
      ]
     },
     "execution_count": 30,
     "metadata": {},
     "output_type": "execute_result"
    }
   ],
   "source": [
    "data_2[mask][\"new_target\"]"
   ]
  },
  {
   "cell_type": "code",
   "execution_count": 25,
   "metadata": {},
   "outputs": [
    {
     "data": {
      "text/plain": [
       "<Axes: >"
      ]
     },
     "execution_count": 25,
     "metadata": {},
     "output_type": "execute_result"
    },
    {
     "data": {
      "image/png": "[encoded data removed]",
      "text/plain": [
       "<Figure size 640x480 with 1 Axes>"
      ]
     },
     "metadata": {},
     "output_type": "display_data"
    }
   ],
   "source": [
    "data_2[mask][\"new_target\"].hist()\n",
    "data[mask][\"final Edge Weight\"].hist()"
   ]
  }
 ],
 "metadata": {
  "kernelspec": {
   "display_name": ".venv",
   "language": "python",
   "name": "python3"
  },
  "language_info": {
   "codemirror_mode": {
    "name": "ipython",
    "version": 3
   },
   "file_extension": ".py",
   "mimetype": "text/x-python",
   "name": "python",
   "nbconvert_exporter": "python",
   "pygments_lexer": "ipython3",
   "version": "3.11.10"
  }
 },
 "nbformat": 4,
 "nbformat_minor": 2
}
